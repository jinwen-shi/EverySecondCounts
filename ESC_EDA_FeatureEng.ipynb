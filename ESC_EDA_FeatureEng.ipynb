{
 "cells": [
  {
   "cell_type": "markdown",
   "metadata": {},
   "source": [
    "# Exploratory Data Analysis and Feature Engineering\n",
    "- In this notebook, we explore the raw data of 911 incidents in San Francisco\n",
    "- Clean the missing data and outliers\n",
    "- Explore the variables that have impact on the target (Response time)\n",
    "- Generate extra features in addition to the existing information\n",
    "- Export the final cleaned and feature engineered dataframe to a csv file for further modeling section"
   ]
  },
  {
   "cell_type": "code",
   "execution_count": 1,
   "metadata": {},
   "outputs": [],
   "source": [
    "import pandas as pd\n",
    "import numpy as np\n",
    "\n",
    "from collections import Counter\n",
    "\n",
    "import geopandas as gp\n",
    "from shapely.geometry import point, polygon\n",
    "\n",
    "import time\n",
    "from datetime import datetime\n",
    "\n",
    "import seaborn as sns\n",
    "import matplotlib.pyplot as plt\n",
    "from IPython.core.pylabtools import figsize\n",
    "\n",
    "%matplotlib inline"
   ]
  },
  {
   "cell_type": "code",
   "execution_count": 2,
   "metadata": {},
   "outputs": [],
   "source": [
    "def plot_density(data):\n",
    "    '''\n",
    "    note: define figsize(x,y) outside of this function\n",
    "    '''\n",
    "    xx,ff = sns.kdeplot(data, color='#335CC5', shade=True, gridsize=1000,\n",
    "                        legend=False).get_lines()[0].get_data() # to get the data\n",
    "    plt.xlabel('Response time (minutes)')\n",
    "    plt.ylabel('Density');\n",
    "    plt.ylim(bottom = 0)\n",
    "    plt.xlim(left = 0, right = 40);\n",
    "    \n",
    "    count = data.shape[0]\n",
    "    mn = np.round(np.mean(data),2)\n",
    "    med = np.round(np.median(data),2)\n",
    "    peak = np.round(xx[ff==max(ff)][0],2)\n",
    "    \n",
    "    return count, mn, med, peak"
   ]
  },
  {
   "cell_type": "code",
   "execution_count": 3,
   "metadata": {},
   "outputs": [],
   "source": [
    "def  points_to_xy(points):\n",
    "    '''\n",
    "    Convert centroid point to lat and long\n",
    "    '''\n",
    "    s = geopandas.GeoSeries(points)\n",
    "    long = s.apply(lambda p: p[0])\n",
    "    lat = s.apply(lambda p: p[1])\n",
    "    return lat, long"
   ]
  },
  {
   "cell_type": "code",
   "execution_count": 4,
   "metadata": {},
   "outputs": [],
   "source": [
    "def point_to_LatLong(points):\n",
    "    '''\n",
    "    Convert centroid point to lat and long\n",
    "    '''\n",
    "    new1 = points.str.split(\"POINT\",expand=True,)\n",
    "    new2 = new1[1].str.split(\"(\",expand=True,)\n",
    "    new3 = new2[1].str.split(\")\",expand=True,)\n",
    "    new4 = new3[0].str.split(\" \",expand=True,)\n",
    "    \n",
    "    return new4"
   ]
  },
  {
   "cell_type": "code",
   "execution_count": 5,
   "metadata": {},
   "outputs": [],
   "source": [
    "# Function to detection outlier on one-dimentional datasets.\n",
    "def find_anomalies(data):\n",
    "    anomalies = []\n",
    "    data_std = data.std()\n",
    "    data_mean = data.mean()\n",
    "    anomaly_cut_off = data_std * 3\n",
    "    \n",
    "    lower_limit  = data_mean - anomaly_cut_off \n",
    "    upper_limit =  data_mean + anomaly_cut_off\n",
    "    if lower_limit<0:\n",
    "        lower_limit = 0\n",
    "        \n",
    "    print('std: ', data.std(),'mean: ',data.mean(), 'lower_limit: ', lower_limit, 'upper_limit: ', upper_limit)\n",
    "\n",
    "    return lower_limit, upper_limit"
   ]
  },
  {
   "cell_type": "markdown",
   "metadata": {},
   "source": [
    "## Import and dataset\n",
    "- The data source is downloaded from www.DataSF.com\n",
    "- The dataset contains historical 911 incidents from September 2016 to September 2019\n",
    "- There are 949,243 incidents in total."
   ]
  },
  {
   "cell_type": "code",
   "execution_count": 6,
   "metadata": {},
   "outputs": [
    {
     "name": "stderr",
     "output_type": "stream",
     "text": [
      "/Users/Jinwen/anaconda3/lib/python3.7/site-packages/IPython/core/interactiveshell.py:3020: DtypeWarning: Columns (20,21,31) have mixed types. Specify dtype option on import or set low_memory=False.\n",
      "  interactivity=interactivity, compiler=compiler, result=result)\n"
     ]
    },
    {
     "data": {
      "text/html": [
       "<div>\n",
       "<style scoped>\n",
       "    .dataframe tbody tr th:only-of-type {\n",
       "        vertical-align: middle;\n",
       "    }\n",
       "\n",
       "    .dataframe tbody tr th {\n",
       "        vertical-align: top;\n",
       "    }\n",
       "\n",
       "    .dataframe thead th {\n",
       "        text-align: right;\n",
       "    }\n",
       "</style>\n",
       "<table border=\"1\" class=\"dataframe\">\n",
       "  <thead>\n",
       "    <tr style=\"text-align: right;\">\n",
       "      <th></th>\n",
       "      <th>Call Number</th>\n",
       "      <th>Unit ID</th>\n",
       "      <th>Incident Number</th>\n",
       "      <th>Call Type</th>\n",
       "      <th>Call Date</th>\n",
       "      <th>Watch Date</th>\n",
       "      <th>Received DtTm</th>\n",
       "      <th>Entry DtTm</th>\n",
       "      <th>Dispatch DtTm</th>\n",
       "      <th>Response DtTm</th>\n",
       "      <th>...</th>\n",
       "      <th>ALS Unit</th>\n",
       "      <th>Call Type Group</th>\n",
       "      <th>Number of Alarms</th>\n",
       "      <th>Unit Type</th>\n",
       "      <th>Unit sequence in call dispatch</th>\n",
       "      <th>Fire Prevention District</th>\n",
       "      <th>Supervisor District</th>\n",
       "      <th>Neighborhooods - Analysis Boundaries</th>\n",
       "      <th>Location</th>\n",
       "      <th>RowID</th>\n",
       "    </tr>\n",
       "  </thead>\n",
       "  <tbody>\n",
       "    <tr>\n",
       "      <th>0</th>\n",
       "      <td>192584111</td>\n",
       "      <td>QRV1</td>\n",
       "      <td>19110591</td>\n",
       "      <td>Medical Incident</td>\n",
       "      <td>09/15/2019</td>\n",
       "      <td>09/15/2019</td>\n",
       "      <td>09/15/2019 11:57:18 PM</td>\n",
       "      <td>09/15/2019 11:58:36 PM</td>\n",
       "      <td>09/15/2019 11:58:47 PM</td>\n",
       "      <td>09/15/2019 11:59:34 PM</td>\n",
       "      <td>...</td>\n",
       "      <td>True</td>\n",
       "      <td>Potentially Life-Threatening</td>\n",
       "      <td>1</td>\n",
       "      <td>SUPPORT</td>\n",
       "      <td>1.0</td>\n",
       "      <td>2</td>\n",
       "      <td>6</td>\n",
       "      <td>Tenderloin</td>\n",
       "      <td>POINT (-122.41259697063744 37.78111921215415)</td>\n",
       "      <td>192584111-QRV1</td>\n",
       "    </tr>\n",
       "    <tr>\n",
       "      <th>1</th>\n",
       "      <td>192584111</td>\n",
       "      <td>AM120</td>\n",
       "      <td>19110591</td>\n",
       "      <td>Medical Incident</td>\n",
       "      <td>09/15/2019</td>\n",
       "      <td>09/15/2019</td>\n",
       "      <td>09/15/2019 11:57:18 PM</td>\n",
       "      <td>09/15/2019 11:58:36 PM</td>\n",
       "      <td>09/15/2019 11:58:47 PM</td>\n",
       "      <td>09/15/2019 11:59:37 PM</td>\n",
       "      <td>...</td>\n",
       "      <td>False</td>\n",
       "      <td>Potentially Life-Threatening</td>\n",
       "      <td>1</td>\n",
       "      <td>PRIVATE</td>\n",
       "      <td>2.0</td>\n",
       "      <td>2</td>\n",
       "      <td>6</td>\n",
       "      <td>Tenderloin</td>\n",
       "      <td>POINT (-122.41259697063744 37.78111921215415)</td>\n",
       "      <td>192584111-AM120</td>\n",
       "    </tr>\n",
       "  </tbody>\n",
       "</table>\n",
       "<p>2 rows × 34 columns</p>\n",
       "</div>"
      ],
      "text/plain": [
       "   Call Number Unit ID  Incident Number         Call Type   Call Date  \\\n",
       "0    192584111    QRV1         19110591  Medical Incident  09/15/2019   \n",
       "1    192584111   AM120         19110591  Medical Incident  09/15/2019   \n",
       "\n",
       "   Watch Date           Received DtTm              Entry DtTm  \\\n",
       "0  09/15/2019  09/15/2019 11:57:18 PM  09/15/2019 11:58:36 PM   \n",
       "1  09/15/2019  09/15/2019 11:57:18 PM  09/15/2019 11:58:36 PM   \n",
       "\n",
       "            Dispatch DtTm           Response DtTm       ...        ALS Unit  \\\n",
       "0  09/15/2019 11:58:47 PM  09/15/2019 11:59:34 PM       ...            True   \n",
       "1  09/15/2019 11:58:47 PM  09/15/2019 11:59:37 PM       ...           False   \n",
       "\n",
       "                Call Type Group Number of Alarms Unit Type  \\\n",
       "0  Potentially Life-Threatening                1   SUPPORT   \n",
       "1  Potentially Life-Threatening                1   PRIVATE   \n",
       "\n",
       "  Unit sequence in call dispatch Fire Prevention District Supervisor District  \\\n",
       "0                            1.0                        2                   6   \n",
       "1                            2.0                        2                   6   \n",
       "\n",
       "   Neighborhooods - Analysis Boundaries  \\\n",
       "0                            Tenderloin   \n",
       "1                            Tenderloin   \n",
       "\n",
       "                                        Location            RowID  \n",
       "0  POINT (-122.41259697063744 37.78111921215415)   192584111-QRV1  \n",
       "1  POINT (-122.41259697063744 37.78111921215415)  192584111-AM120  \n",
       "\n",
       "[2 rows x 34 columns]"
      ]
     },
     "execution_count": 6,
     "metadata": {},
     "output_type": "execute_result"
    }
   ],
   "source": [
    "#df = pd.read_csv(io.StringIO(df.to_csv(index=False), index_col=0))\n",
    "df = pd.read_csv(\"CallData16_19.csv\",index_col=0) # Get rid of 'Unnamed :0'\n",
    "df.reset_index(drop=True)\n",
    "df.head(2)"
   ]
  },
  {
   "cell_type": "code",
   "execution_count": 7,
   "metadata": {},
   "outputs": [
    {
     "name": "stdout",
     "output_type": "stream",
     "text": [
      "(949243, 34)\n"
     ]
    },
    {
     "data": {
      "text/plain": [
       "Call Number                                  0\n",
       "Unit ID                                      0\n",
       "Incident Number                              0\n",
       "Call Type                                    0\n",
       "Call Date                                    0\n",
       "Watch Date                                   0\n",
       "Received DtTm                                0\n",
       "Entry DtTm                                   0\n",
       "Dispatch DtTm                                0\n",
       "Response DtTm                            24096\n",
       "On Scene DtTm                           183957\n",
       "Transport DtTm                          676596\n",
       "Hospital DtTm                           681116\n",
       "Call Final Disposition                       0\n",
       "Available DtTm                             186\n",
       "Address                                      0\n",
       "City                                      1897\n",
       "Zipcode of Incident                        881\n",
       "Battalion                                    0\n",
       "Station Area                              2070\n",
       "Box                                         33\n",
       "Original Priority                            1\n",
       "Priority                                     0\n",
       "Final Priority                               0\n",
       "ALS Unit                                     0\n",
       "Call Type Group                           2404\n",
       "Number of Alarms                             0\n",
       "Unit Type                                    0\n",
       "Unit sequence in call dispatch               0\n",
       "Fire Prevention District                     0\n",
       "Supervisor District                          0\n",
       "Neighborhooods - Analysis Boundaries         0\n",
       "Location                                     0\n",
       "RowID                                        0\n",
       "dtype: int64"
      ]
     },
     "execution_count": 7,
     "metadata": {},
     "output_type": "execute_result"
    }
   ],
   "source": [
    "# Check the shape and missing values\n",
    "print(df.shape)\n",
    "df.isnull().sum()"
   ]
  },
  {
   "cell_type": "code",
   "execution_count": 8,
   "metadata": {},
   "outputs": [
    {
     "name": "stdout",
     "output_type": "stream",
     "text": [
      "<class 'pandas.core.frame.DataFrame'>\n",
      "Int64Index: 949243 entries, 0 to 949242\n",
      "Data columns (total 34 columns):\n",
      "Call Number                             949243 non-null int64\n",
      "Unit ID                                 949243 non-null object\n",
      "Incident Number                         949243 non-null int64\n",
      "Call Type                               949243 non-null object\n",
      "Call Date                               949243 non-null object\n",
      "Watch Date                              949243 non-null object\n",
      "Received DtTm                           949243 non-null object\n",
      "Entry DtTm                              949243 non-null object\n",
      "Dispatch DtTm                           949243 non-null object\n",
      "Response DtTm                           925147 non-null object\n",
      "On Scene DtTm                           765286 non-null object\n",
      "Transport DtTm                          272647 non-null object\n",
      "Hospital DtTm                           268127 non-null object\n",
      "Call Final Disposition                  949243 non-null object\n",
      "Available DtTm                          949057 non-null object\n",
      "Address                                 949243 non-null object\n",
      "City                                    947346 non-null object\n",
      "Zipcode of Incident                     948362 non-null float64\n",
      "Battalion                               949243 non-null object\n",
      "Station Area                            947173 non-null object\n",
      "Box                                     949210 non-null object\n",
      "Original Priority                       949242 non-null object\n",
      "Priority                                949243 non-null object\n",
      "Final Priority                          949243 non-null int64\n",
      "ALS Unit                                949243 non-null bool\n",
      "Call Type Group                         946839 non-null object\n",
      "Number of Alarms                        949243 non-null int64\n",
      "Unit Type                               949243 non-null object\n",
      "Unit sequence in call dispatch          949243 non-null float64\n",
      "Fire Prevention District                949243 non-null object\n",
      "Supervisor District                     949243 non-null object\n",
      "Neighborhooods - Analysis Boundaries    949243 non-null object\n",
      "Location                                949243 non-null object\n",
      "RowID                                   949243 non-null object\n",
      "dtypes: bool(1), float64(2), int64(4), object(27)\n",
      "memory usage: 247.1+ MB\n"
     ]
    }
   ],
   "source": [
    "df.info()"
   ]
  },
  {
   "cell_type": "markdown",
   "metadata": {},
   "source": [
    "### Drop missing values\n",
    "- Drop the incidents without a specified arrival timestamp and call type."
   ]
  },
  {
   "cell_type": "code",
   "execution_count": 9,
   "metadata": {},
   "outputs": [
    {
     "name": "stdout",
     "output_type": "stream",
     "text": [
      "(765286, 34)\n"
     ]
    }
   ],
   "source": [
    "# Drop the rows where 'On Scene DtTm' has a NaN\n",
    "df.dropna(subset=['On Scene DtTm'], inplace=True)\n",
    "print(df.shape)"
   ]
  },
  {
   "cell_type": "code",
   "execution_count": 10,
   "metadata": {},
   "outputs": [
    {
     "name": "stdout",
     "output_type": "stream",
     "text": [
      "(763368, 34)\n"
     ]
    }
   ],
   "source": [
    "# Drop the rows where 'Call Type Group' has a NaN\n",
    "df.dropna(subset=['Call Type Group'], inplace=True)\n",
    "print(df.shape)"
   ]
  },
  {
   "cell_type": "markdown",
   "metadata": {},
   "source": [
    "### Convert date and time into python timestamps\n",
    "- Cast into the DateTime format, to derive the waiting time.\n",
    "- Response Time = OnScene TimeDate - Call TimeDate"
   ]
  },
  {
   "cell_type": "code",
   "execution_count": 11,
   "metadata": {},
   "outputs": [],
   "source": [
    "# convert to datetime\n",
    "date = pd.to_datetime(df['Call Date'])\n",
    "df['Call Date'] = date\n",
    "del date"
   ]
  },
  {
   "cell_type": "code",
   "execution_count": 12,
   "metadata": {},
   "outputs": [],
   "source": [
    "# convert to datetime\n",
    "date = pd.to_datetime(df['Received DtTm'])\n",
    "df['Received DtTm'] = date\n",
    "del date"
   ]
  },
  {
   "cell_type": "code",
   "execution_count": 13,
   "metadata": {},
   "outputs": [],
   "source": [
    "# convert to datetime\n",
    "date = pd.to_datetime(df['On Scene DtTm'])\n",
    "df['On Scene DtTm'] = date\n",
    "del date"
   ]
  },
  {
   "cell_type": "code",
   "execution_count": 14,
   "metadata": {},
   "outputs": [],
   "source": [
    "# convert to datetime\n",
    "date = pd.to_datetime(df['Transport DtTm'])\n",
    "df['Transport DtTm'] = date\n",
    "del date"
   ]
  },
  {
   "cell_type": "markdown",
   "metadata": {},
   "source": [
    "## Calculate the Response Time\n",
    "- Drop the data points 3 times standard deviation away from the mean."
   ]
  },
  {
   "cell_type": "code",
   "execution_count": 15,
   "metadata": {},
   "outputs": [
    {
     "data": {
      "text/html": [
       "<div>\n",
       "<style scoped>\n",
       "    .dataframe tbody tr th:only-of-type {\n",
       "        vertical-align: middle;\n",
       "    }\n",
       "\n",
       "    .dataframe tbody tr th {\n",
       "        vertical-align: top;\n",
       "    }\n",
       "\n",
       "    .dataframe thead th {\n",
       "        text-align: right;\n",
       "    }\n",
       "</style>\n",
       "<table border=\"1\" class=\"dataframe\">\n",
       "  <thead>\n",
       "    <tr style=\"text-align: right;\">\n",
       "      <th></th>\n",
       "      <th>Call Number</th>\n",
       "      <th>Unit ID</th>\n",
       "      <th>Incident Number</th>\n",
       "      <th>Call Type</th>\n",
       "      <th>Call Date</th>\n",
       "      <th>Watch Date</th>\n",
       "      <th>Received DtTm</th>\n",
       "      <th>Entry DtTm</th>\n",
       "      <th>Dispatch DtTm</th>\n",
       "      <th>Response DtTm</th>\n",
       "      <th>...</th>\n",
       "      <th>Call Type Group</th>\n",
       "      <th>Number of Alarms</th>\n",
       "      <th>Unit Type</th>\n",
       "      <th>Unit sequence in call dispatch</th>\n",
       "      <th>Fire Prevention District</th>\n",
       "      <th>Supervisor District</th>\n",
       "      <th>Neighborhooods - Analysis Boundaries</th>\n",
       "      <th>Location</th>\n",
       "      <th>RowID</th>\n",
       "      <th>RespTm</th>\n",
       "    </tr>\n",
       "  </thead>\n",
       "  <tbody>\n",
       "    <tr>\n",
       "      <th>0</th>\n",
       "      <td>192584111</td>\n",
       "      <td>QRV1</td>\n",
       "      <td>19110591</td>\n",
       "      <td>Medical Incident</td>\n",
       "      <td>2019-09-15</td>\n",
       "      <td>09/15/2019</td>\n",
       "      <td>2019-09-15 23:57:18</td>\n",
       "      <td>09/15/2019 11:58:36 PM</td>\n",
       "      <td>09/15/2019 11:58:47 PM</td>\n",
       "      <td>09/15/2019 11:59:34 PM</td>\n",
       "      <td>...</td>\n",
       "      <td>Potentially Life-Threatening</td>\n",
       "      <td>1</td>\n",
       "      <td>SUPPORT</td>\n",
       "      <td>1.0</td>\n",
       "      <td>2</td>\n",
       "      <td>6</td>\n",
       "      <td>Tenderloin</td>\n",
       "      <td>POINT (-122.41259697063744 37.78111921215415)</td>\n",
       "      <td>192584111-QRV1</td>\n",
       "      <td>3.8</td>\n",
       "    </tr>\n",
       "    <tr>\n",
       "      <th>1</th>\n",
       "      <td>192584111</td>\n",
       "      <td>AM120</td>\n",
       "      <td>19110591</td>\n",
       "      <td>Medical Incident</td>\n",
       "      <td>2019-09-15</td>\n",
       "      <td>09/15/2019</td>\n",
       "      <td>2019-09-15 23:57:18</td>\n",
       "      <td>09/15/2019 11:58:36 PM</td>\n",
       "      <td>09/15/2019 11:58:47 PM</td>\n",
       "      <td>09/15/2019 11:59:37 PM</td>\n",
       "      <td>...</td>\n",
       "      <td>Potentially Life-Threatening</td>\n",
       "      <td>1</td>\n",
       "      <td>PRIVATE</td>\n",
       "      <td>2.0</td>\n",
       "      <td>2</td>\n",
       "      <td>6</td>\n",
       "      <td>Tenderloin</td>\n",
       "      <td>POINT (-122.41259697063744 37.78111921215415)</td>\n",
       "      <td>192584111-AM120</td>\n",
       "      <td>6.1</td>\n",
       "    </tr>\n",
       "  </tbody>\n",
       "</table>\n",
       "<p>2 rows × 35 columns</p>\n",
       "</div>"
      ],
      "text/plain": [
       "   Call Number Unit ID  Incident Number         Call Type  Call Date  \\\n",
       "0    192584111    QRV1         19110591  Medical Incident 2019-09-15   \n",
       "1    192584111   AM120         19110591  Medical Incident 2019-09-15   \n",
       "\n",
       "   Watch Date       Received DtTm              Entry DtTm  \\\n",
       "0  09/15/2019 2019-09-15 23:57:18  09/15/2019 11:58:36 PM   \n",
       "1  09/15/2019 2019-09-15 23:57:18  09/15/2019 11:58:36 PM   \n",
       "\n",
       "            Dispatch DtTm           Response DtTm  ...    \\\n",
       "0  09/15/2019 11:58:47 PM  09/15/2019 11:59:34 PM  ...     \n",
       "1  09/15/2019 11:58:47 PM  09/15/2019 11:59:37 PM  ...     \n",
       "\n",
       "                Call Type Group Number of Alarms Unit Type  \\\n",
       "0  Potentially Life-Threatening                1   SUPPORT   \n",
       "1  Potentially Life-Threatening                1   PRIVATE   \n",
       "\n",
       "  Unit sequence in call dispatch Fire Prevention District Supervisor District  \\\n",
       "0                            1.0                        2                   6   \n",
       "1                            2.0                        2                   6   \n",
       "\n",
       "  Neighborhooods - Analysis Boundaries  \\\n",
       "0                           Tenderloin   \n",
       "1                           Tenderloin   \n",
       "\n",
       "                                        Location            RowID RespTm  \n",
       "0  POINT (-122.41259697063744 37.78111921215415)   192584111-QRV1    3.8  \n",
       "1  POINT (-122.41259697063744 37.78111921215415)  192584111-AM120    6.1  \n",
       "\n",
       "[2 rows x 35 columns]"
      ]
     },
     "execution_count": 15,
     "metadata": {},
     "output_type": "execute_result"
    }
   ],
   "source": [
    "#RespTm = (df['On Scene DtTm']-df['Received DtTm']).astype('timedelta64[h]')\n",
    "df['RespTm'] = df['On Scene DtTm'] - df['Received DtTm']\n",
    "df['RespTm']=df['RespTm']/np.timedelta64(1,'m') # 's' second, 'm' minute,'h' hour\n",
    "df.head(2)"
   ]
  },
  {
   "cell_type": "code",
   "execution_count": 16,
   "metadata": {},
   "outputs": [
    {
     "data": {
      "text/plain": [
       "count    763368.000000\n",
       "mean          9.462406\n",
       "std          10.290680\n",
       "min        -713.800000\n",
       "25%           5.416667\n",
       "50%           7.333333\n",
       "75%          10.933333\n",
       "max        1657.433333\n",
       "Name: RespTm, dtype: float64"
      ]
     },
     "execution_count": 16,
     "metadata": {},
     "output_type": "execute_result"
    }
   ],
   "source": [
    "# Response time of some incidents are less than zero\n",
    "df['RespTm'].describe() "
   ]
  },
  {
   "cell_type": "code",
   "execution_count": 18,
   "metadata": {},
   "outputs": [
    {
     "name": "stdout",
     "output_type": "stream",
     "text": [
      "On Scene time =  2018-06-07 02:07:00\n",
      "Received time =  2018-06-07 14:00:48\n",
      "Timestamp =  -713.8\n"
     ]
    }
   ],
   "source": [
    "# This is an example of such point where response time < 0\n",
    "temp = df.sort_values(by='RespTm', ascending=True).head()\n",
    "print('On Scene time = ', temp.loc[396112,'On Scene DtTm'])\n",
    "print('Received time = ', temp.loc[396112,'Received DtTm'])\n",
    "print('Timestamp = ', (temp.loc[396112,'On Scene DtTm'] - temp.loc[396112,'Received DtTm'])\n",
    "        /np.timedelta64(1,'m'))"
   ]
  },
  {
   "cell_type": "code",
   "execution_count": 19,
   "metadata": {},
   "outputs": [
    {
     "name": "stdout",
     "output_type": "stream",
     "text": [
      "std:  10.290680395404188 mean:  9.462406488962882 lower_limit:  0 upper_limit:  40.33444767517545\n"
     ]
    }
   ],
   "source": [
    "# Find lower and upper limit are the threshold 3*std from the mean\n",
    "lower_limit, upper_limit = find_anomalies(df['RespTm'])"
   ]
  },
  {
   "cell_type": "code",
   "execution_count": 20,
   "metadata": {},
   "outputs": [],
   "source": [
    "# Remove outliers\n",
    "df = df[df['RespTm'] > lower_limit]"
   ]
  },
  {
   "cell_type": "code",
   "execution_count": 21,
   "metadata": {},
   "outputs": [],
   "source": [
    "df = df[df['RespTm'] <= upper_limit]"
   ]
  },
  {
   "cell_type": "code",
   "execution_count": 22,
   "metadata": {},
   "outputs": [
    {
     "data": {
      "text/plain": [
       "count    749606.000000\n",
       "mean          9.133910\n",
       "std           5.730686\n",
       "min           0.033333\n",
       "25%           5.450000\n",
       "50%           7.333333\n",
       "75%          10.866667\n",
       "max          40.333333\n",
       "Name: RespTm, dtype: float64"
      ]
     },
     "execution_count": 22,
     "metadata": {},
     "output_type": "execute_result"
    }
   ],
   "source": [
    "# Review the cleaned respone time\n",
    "df['RespTm'].describe()"
   ]
  },
  {
   "cell_type": "code",
   "execution_count": 23,
   "metadata": {},
   "outputs": [
    {
     "name": "stdout",
     "output_type": "stream",
     "text": [
      "count =  749606  mean =  9.13  median =  7.33  peak =  5.79\n"
     ]
    },
    {
     "data": {
      "image/png": "[encoded data removed]",
      "text/plain": [
       "<Figure size 576x216 with 1 Axes>"
      ]
     },
     "metadata": {
      "needs_background": "light"
     },
     "output_type": "display_data"
    }
   ],
   "source": [
    "# Draw the desity of the cleaned response time\n",
    "data = df['RespTm']\n",
    "figsize(8,3)\n",
    "count, mn, med, peak = plot_density(data)\n",
    "print('count = ',count, ' mean = ', mn, ' median = ', med, ' peak = ',peak)"
   ]
  },
  {
   "cell_type": "code",
   "execution_count": 50,
   "metadata": {
    "scrolled": false
   },
   "outputs": [],
   "source": [
    "# Reset the index as we drop some points away\n",
    "df = df.reset_index(drop=True)"
   ]
  },
  {
   "cell_type": "markdown",
   "metadata": {},
   "source": [
    "# Data Exploration and Feature Engineering"
   ]
  },
  {
   "cell_type": "markdown",
   "metadata": {},
   "source": [
    "## Convert the GeoLocation to Lat and Long\n",
    "- The location of the incident in the raw data is a String Type\n",
    "- The function 'point_to_LatLong' is used to convert the String and creat Lat and Long columns"
   ]
  },
  {
   "cell_type": "code",
   "execution_count": 26,
   "metadata": {},
   "outputs": [
    {
     "data": {
      "text/html": [
       "<div>\n",
       "<style scoped>\n",
       "    .dataframe tbody tr th:only-of-type {\n",
       "        vertical-align: middle;\n",
       "    }\n",
       "\n",
       "    .dataframe tbody tr th {\n",
       "        vertical-align: top;\n",
       "    }\n",
       "\n",
       "    .dataframe thead th {\n",
       "        text-align: right;\n",
       "    }\n",
       "</style>\n",
       "<table border=\"1\" class=\"dataframe\">\n",
       "  <thead>\n",
       "    <tr style=\"text-align: right;\">\n",
       "      <th></th>\n",
       "      <th>Call Number</th>\n",
       "      <th>Unit ID</th>\n",
       "      <th>Incident Number</th>\n",
       "      <th>Call Type</th>\n",
       "      <th>Call Date</th>\n",
       "      <th>Watch Date</th>\n",
       "      <th>Received DtTm</th>\n",
       "      <th>Entry DtTm</th>\n",
       "      <th>Dispatch DtTm</th>\n",
       "      <th>Response DtTm</th>\n",
       "      <th>...</th>\n",
       "      <th>Unit Type</th>\n",
       "      <th>Unit sequence in call dispatch</th>\n",
       "      <th>Fire Prevention District</th>\n",
       "      <th>Supervisor District</th>\n",
       "      <th>Neighborhooods - Analysis Boundaries</th>\n",
       "      <th>Location</th>\n",
       "      <th>RowID</th>\n",
       "      <th>RespTm</th>\n",
       "      <th>Longitude</th>\n",
       "      <th>Latitude</th>\n",
       "    </tr>\n",
       "  </thead>\n",
       "  <tbody>\n",
       "    <tr>\n",
       "      <th>0</th>\n",
       "      <td>192584111</td>\n",
       "      <td>QRV1</td>\n",
       "      <td>19110591</td>\n",
       "      <td>Medical Incident</td>\n",
       "      <td>2019-09-15</td>\n",
       "      <td>09/15/2019</td>\n",
       "      <td>2019-09-15 23:57:18</td>\n",
       "      <td>09/15/2019 11:58:36 PM</td>\n",
       "      <td>09/15/2019 11:58:47 PM</td>\n",
       "      <td>09/15/2019 11:59:34 PM</td>\n",
       "      <td>...</td>\n",
       "      <td>SUPPORT</td>\n",
       "      <td>1.0</td>\n",
       "      <td>2</td>\n",
       "      <td>6</td>\n",
       "      <td>Tenderloin</td>\n",
       "      <td>POINT (-122.41259697063744 37.78111921215415)</td>\n",
       "      <td>192584111-QRV1</td>\n",
       "      <td>3.8</td>\n",
       "      <td>-122.41259697063744</td>\n",
       "      <td>37.78111921215415</td>\n",
       "    </tr>\n",
       "    <tr>\n",
       "      <th>1</th>\n",
       "      <td>192584111</td>\n",
       "      <td>AM120</td>\n",
       "      <td>19110591</td>\n",
       "      <td>Medical Incident</td>\n",
       "      <td>2019-09-15</td>\n",
       "      <td>09/15/2019</td>\n",
       "      <td>2019-09-15 23:57:18</td>\n",
       "      <td>09/15/2019 11:58:36 PM</td>\n",
       "      <td>09/15/2019 11:58:47 PM</td>\n",
       "      <td>09/15/2019 11:59:37 PM</td>\n",
       "      <td>...</td>\n",
       "      <td>PRIVATE</td>\n",
       "      <td>2.0</td>\n",
       "      <td>2</td>\n",
       "      <td>6</td>\n",
       "      <td>Tenderloin</td>\n",
       "      <td>POINT (-122.41259697063744 37.78111921215415)</td>\n",
       "      <td>192584111-AM120</td>\n",
       "      <td>6.1</td>\n",
       "      <td>-122.41259697063744</td>\n",
       "      <td>37.78111921215415</td>\n",
       "    </tr>\n",
       "  </tbody>\n",
       "</table>\n",
       "<p>2 rows × 37 columns</p>\n",
       "</div>"
      ],
      "text/plain": [
       "   Call Number Unit ID  Incident Number         Call Type  Call Date  \\\n",
       "0    192584111    QRV1         19110591  Medical Incident 2019-09-15   \n",
       "1    192584111   AM120         19110591  Medical Incident 2019-09-15   \n",
       "\n",
       "   Watch Date       Received DtTm              Entry DtTm  \\\n",
       "0  09/15/2019 2019-09-15 23:57:18  09/15/2019 11:58:36 PM   \n",
       "1  09/15/2019 2019-09-15 23:57:18  09/15/2019 11:58:36 PM   \n",
       "\n",
       "            Dispatch DtTm           Response DtTm        ...          \\\n",
       "0  09/15/2019 11:58:47 PM  09/15/2019 11:59:34 PM        ...           \n",
       "1  09/15/2019 11:58:47 PM  09/15/2019 11:59:37 PM        ...           \n",
       "\n",
       "  Unit Type Unit sequence in call dispatch Fire Prevention District  \\\n",
       "0   SUPPORT                            1.0                        2   \n",
       "1   PRIVATE                            2.0                        2   \n",
       "\n",
       "  Supervisor District Neighborhooods - Analysis Boundaries  \\\n",
       "0                   6                           Tenderloin   \n",
       "1                   6                           Tenderloin   \n",
       "\n",
       "                                        Location            RowID  RespTm  \\\n",
       "0  POINT (-122.41259697063744 37.78111921215415)   192584111-QRV1     3.8   \n",
       "1  POINT (-122.41259697063744 37.78111921215415)  192584111-AM120     6.1   \n",
       "\n",
       "             Longitude           Latitude  \n",
       "0  -122.41259697063744  37.78111921215415  \n",
       "1  -122.41259697063744  37.78111921215415  \n",
       "\n",
       "[2 rows x 37 columns]"
      ]
     },
     "execution_count": 26,
     "metadata": {},
     "output_type": "execute_result"
    }
   ],
   "source": [
    "df[['Longitude','Latitude']] = point_to_LatLong(df['Location'])\n",
    "df.head(2)"
   ]
  },
  {
   "cell_type": "code",
   "execution_count": 27,
   "metadata": {},
   "outputs": [],
   "source": [
    "# Convert Strings to float\n",
    "df[['Longitude','Latitude']] = df[['Longitude','Latitude']].astype(float)"
   ]
  },
  {
   "cell_type": "markdown",
   "metadata": {},
   "source": [
    "## Explore the  call times"
   ]
  },
  {
   "cell_type": "code",
   "execution_count": 28,
   "metadata": {},
   "outputs": [
    {
     "name": "stdout",
     "output_type": "stream",
     "text": [
      "2016     81228\n",
      "2017    245985\n",
      "2018    247198\n",
      "2019    175195\n",
      "Name: year, dtype: int64\n"
     ]
    }
   ],
   "source": [
    "df['year'] = pd.DatetimeIndex(df['Call Date']).year\n",
    "print(df['year'].value_counts(sort=False))"
   ]
  },
  {
   "cell_type": "code",
   "execution_count": 29,
   "metadata": {},
   "outputs": [
    {
     "name": "stdout",
     "output_type": "stream",
     "text": [
      "1     63186\n",
      "2     58051\n",
      "3     63143\n",
      "4     60551\n",
      "5     61800\n",
      "6     62312\n",
      "7     60785\n",
      "8     62284\n",
      "9     71759\n",
      "10    62546\n",
      "11    59966\n",
      "12    63223\n",
      "Name: month, dtype: int64\n"
     ]
    }
   ],
   "source": [
    "df['month'] = pd.DatetimeIndex(df['Call Date']).month\n",
    "print(df['month'].value_counts(sort=False))"
   ]
  },
  {
   "cell_type": "code",
   "execution_count": 30,
   "metadata": {},
   "outputs": [
    {
     "name": "stdout",
     "output_type": "stream",
     "text": [
      "1     25928\n",
      "2     25967\n",
      "3     25819\n",
      "4     25200\n",
      "5     25257\n",
      "6     25109\n",
      "7     25511\n",
      "8     26048\n",
      "9     25478\n",
      "10    25316\n",
      "11    24647\n",
      "12    24691\n",
      "13    24791\n",
      "14    24641\n",
      "15    25008\n",
      "16    24261\n",
      "17    24272\n",
      "18    24380\n",
      "19    24047\n",
      "20    23864\n",
      "21    24716\n",
      "22    24333\n",
      "23    24363\n",
      "24    23472\n",
      "25    23481\n",
      "26    23877\n",
      "27    23497\n",
      "28    24287\n",
      "29    21697\n",
      "30    21529\n",
      "31    14119\n",
      "Name: day, dtype: int64\n"
     ]
    }
   ],
   "source": [
    "df['day'] = pd.DatetimeIndex(df['Call Date']).day\n",
    "print(df['day'].value_counts(sort=False))"
   ]
  },
  {
   "cell_type": "code",
   "execution_count": 31,
   "metadata": {},
   "outputs": [
    {
     "name": "stdout",
     "output_type": "stream",
     "text": [
      "0    107609\n",
      "1    105338\n",
      "2    106418\n",
      "3    106007\n",
      "4    110575\n",
      "5    109416\n",
      "6    104243\n",
      "Name: dayofweek, dtype: int64\n"
     ]
    }
   ],
   "source": [
    "df['dayofweek'] = pd.DatetimeIndex(df['Call Date']).dayofweek\n",
    "print(df['dayofweek'].value_counts(sort=False))"
   ]
  },
  {
   "cell_type": "code",
   "execution_count": 32,
   "metadata": {},
   "outputs": [],
   "source": [
    "df['hour'] = pd.DatetimeIndex(df['Received DtTm']).hour\n",
    "#print(df['hour'].value_counts(sort=False))"
   ]
  },
  {
   "cell_type": "markdown",
   "metadata": {},
   "source": [
    "## Explore the  dispatch imformation"
   ]
  },
  {
   "cell_type": "code",
   "execution_count": 36,
   "metadata": {},
   "outputs": [
    {
     "name": "stdout",
     "output_type": "stream",
     "text": [
      "Medical Incident                                539068\n",
      "Alarms                                           83589\n",
      "Structure Fire                                   48174\n",
      "Traffic Collision                                29869\n",
      "Citizen Assist / Service Call                    10919\n",
      "Other                                             9587\n",
      "Outside Fire                                      8840\n",
      "Gas Leak (Natural and LP Gases)                   4499\n",
      "Electrical Hazard                                 3261\n",
      "Water Rescue                                      2829\n",
      "Elevator / Escalator Rescue                       2711\n",
      "Vehicle Fire                                      1982\n",
      "Smoke Investigation (Outside)                     1727\n",
      "Fuel Spill                                         682\n",
      "Odor (Strange / Unknown)                           629\n",
      "HazMat                                             303\n",
      "Explosion                                          167\n",
      "Industrial Accidents                               139\n",
      "Train / Rail Incident                              130\n",
      "Confined Space / Structure Collapse                106\n",
      "Extrication / Entrapped (Machinery, Vehicle)        97\n",
      "Assist Police                                       92\n",
      "High Angle Rescue                                   90\n",
      "Mutual Aid / Assist Outside Agency                  43\n",
      "Watercraft in Distress                              36\n",
      "Marine Fire                                         20\n",
      "Suspicious Package                                  16\n",
      "Oil Spill                                            1\n",
      "Name: Call Type, dtype: int64\n"
     ]
    }
   ],
   "source": [
    "print( df['Call Type'].value_counts(sort=True) )"
   ]
  },
  {
   "cell_type": "code",
   "execution_count": 37,
   "metadata": {},
   "outputs": [
    {
     "data": {
      "image/png": "[encoded data removed]",
      "text/plain": [
       "<Figure size 576x216 with 1 Axes>"
      ]
     },
     "metadata": {
      "needs_background": "light"
     },
     "output_type": "display_data"
    }
   ],
   "source": [
    "plt.plot(df['Call Type'], df['RespTm'], 'o')\n",
    "#plt.ylim(0, 500)\n",
    "plt.xlabel(\"Call Type\")\n",
    "plt.ylabel(\"Response time (minutes)\")\n",
    "plt.xticks(rotation=90)\n",
    "plt.show()"
   ]
  },
  {
   "cell_type": "code",
   "execution_count": 38,
   "metadata": {},
   "outputs": [
    {
     "name": "stdout",
     "output_type": "stream",
     "text": [
      "Potentially Life-Threatening    373804\n",
      "Non Life-threatening            196846\n",
      "Alarm                           157820\n",
      "Fire                             21136\n",
      "Name: Call Type Group, dtype: int64\n"
     ]
    }
   ],
   "source": [
    "print( df['Call Type Group'].value_counts(sort=True) )"
   ]
  },
  {
   "cell_type": "code",
   "execution_count": 39,
   "metadata": {},
   "outputs": [
    {
     "data": {
      "image/png": "[encoded data removed]",
      "text/plain": [
       "<Figure size 576x216 with 1 Axes>"
      ]
     },
     "metadata": {
      "needs_background": "light"
     },
     "output_type": "display_data"
    }
   ],
   "source": [
    "# plot by life-threatening status\n",
    "figsize(8,3)\n",
    "sns.boxplot(data = df, y='Call Type Group', x='RespTm', \n",
    "            order=[\"Potentially Life-Threatening\", \"Non Life-threatening\", 'Alarm', 'Fire'],\n",
    "            orient = 'h', color = '#528DD1',\n",
    "            width=0.8, linewidth=1.5, showfliers=False, whis=[10, 90])\n",
    "plt.ylabel('')\n",
    "plt.xlabel('Response Time (min)');\n",
    "plt.title('Call Type Group');\n",
    "#plt.xlim((3,25));\n",
    "plt.yticks((0,1,2,3),(\"Potentially Life-Threatening\", \"Non Life-threatening\", 'Alarm', 'Fire'));"
   ]
  },
  {
   "cell_type": "code",
   "execution_count": 40,
   "metadata": {},
   "outputs": [
    {
     "name": "stdout",
     "output_type": "stream",
     "text": [
      "2    231732\n",
      "3    517874\n",
      "Name: Final Priority, dtype: int64\n"
     ]
    }
   ],
   "source": [
    "print( df['Final Priority'].value_counts(sort=False) )"
   ]
  },
  {
   "cell_type": "code",
   "execution_count": 41,
   "metadata": {},
   "outputs": [
    {
     "data": {
      "image/png": "[encoded data removed]",
      "text/plain": [
       "<Figure size 576x216 with 1 Axes>"
      ]
     },
     "metadata": {
      "needs_background": "light"
     },
     "output_type": "display_data"
    }
   ],
   "source": [
    "figsize(8,3)\n",
    "sns.boxplot(data = df, y='Final Priority', x='RespTm', \n",
    "            order=[3,2],\n",
    "            orient = 'h', color = '#528DD1',\n",
    "            width=0.8, linewidth=1.5, showfliers=False, whis=[10, 90])\n",
    "plt.ylabel('')\n",
    "plt.xlabel('Response Time (min)');\n",
    "plt.title('Final Priority');\n",
    "#plt.xlim((3,25));\n",
    "plt.yticks((0,1),(\"Emergency\", \"Non-Emergency\"));"
   ]
  },
  {
   "cell_type": "code",
   "execution_count": 42,
   "metadata": {},
   "outputs": [
    {
     "data": {
      "image/png": "[encoded data removed]",
      "text/plain": [
       "<Figure size 576x216 with 1 Axes>"
      ]
     },
     "metadata": {
      "needs_background": "light"
     },
     "output_type": "display_data"
    }
   ],
   "source": [
    "figsize(8,3)\n",
    "sns.boxplot(data = df, y='ALS Unit', x='RespTm', \n",
    "            order=[True,False],\n",
    "            orient = 'h', color = '#528DD1',\n",
    "            width=0.8, linewidth=1.5, showfliers=False, whis=[10, 90])\n",
    "plt.ylabel('')\n",
    "plt.xlabel('Response Time (min)');\n",
    "plt.title('ALS Unit');\n",
    "#plt.xlim((3,25));\n",
    "plt.yticks((0,1),(\"True\", \"False\"));"
   ]
  },
  {
   "cell_type": "code",
   "execution_count": 43,
   "metadata": {},
   "outputs": [
    {
     "name": "stdout",
     "output_type": "stream",
     "text": [
      "ENGINE            273622\n",
      "MEDIC             252342\n",
      "PRIVATE            87015\n",
      "TRUCK              58243\n",
      "CHIEF              44811\n",
      "RESCUE CAPTAIN     15980\n",
      "SUPPORT            11916\n",
      "RESCUE SQUAD        5268\n",
      "INVESTIGATION        409\n",
      "Name: Unit Type, dtype: int64\n"
     ]
    }
   ],
   "source": [
    "print( df['Unit Type'].value_counts(sort=True) )"
   ]
  },
  {
   "cell_type": "code",
   "execution_count": 44,
   "metadata": {},
   "outputs": [
    {
     "data": {
      "image/png": "[encoded data removed]",
      "text/plain": [
       "<Figure size 576x216 with 1 Axes>"
      ]
     },
     "metadata": {
      "needs_background": "light"
     },
     "output_type": "display_data"
    }
   ],
   "source": [
    "figsize(8,3)\n",
    "sns.boxplot(data = df, y='Unit Type', x='RespTm', \n",
    "            order=[\"ENGINE\", \"MEDIC\", 'PRIVATE', 'TRUCK',\n",
    "                   'CHIEF','RESCUE CAPTAIN','SUPPORT','RESCUE SQUAD'],\n",
    "            orient = 'h', color = '#528DD1',\n",
    "            width=0.8, linewidth=1.5, showfliers=False, whis=[10, 90])\n",
    "plt.ylabel('')\n",
    "plt.xlabel('Response Time (min)');\n",
    "plt.title('Unit Type');\n",
    "#plt.xlim((3,25));\n",
    "plt.yticks((0,1,2,3,4,5,6,7,8),(\"ENGINE\", \"MEDIC\", 'PRIVATE', 'TRUCK',\n",
    "                       'CHIEF','RESCUE CAPTAIN','SUPPORT','RESCUE SQUAD')); "
   ]
  },
  {
   "cell_type": "code",
   "execution_count": 45,
   "metadata": {},
   "outputs": [
    {
     "name": "stdout",
     "output_type": "stream",
     "text": [
      "1    748514\n",
      "2       851\n",
      "3       176\n",
      "4        65\n",
      "Name: Number of Alarms, dtype: int64\n"
     ]
    }
   ],
   "source": [
    "print( df['Number of Alarms'].value_counts(sort=True) )"
   ]
  },
  {
   "cell_type": "code",
   "execution_count": 46,
   "metadata": {},
   "outputs": [
    {
     "data": {
      "image/png": "[encoded data removed]",
      "text/plain": [
       "<Figure size 576x216 with 1 Axes>"
      ]
     },
     "metadata": {
      "needs_background": "light"
     },
     "output_type": "display_data"
    }
   ],
   "source": [
    "figsize(8,3)\n",
    "sns.boxplot(data = df, y='Number of Alarms', x='RespTm', \n",
    "            order=[1,2,3,4],\n",
    "            orient = 'h', color = '#528DD1',\n",
    "            width=0.8, linewidth=1.5, showfliers=False, whis=[10, 90])\n",
    "plt.ylabel('')\n",
    "plt.xlabel('Response Time (min)');\n",
    "plt.title('Number of Alarms');\n",
    "#plt.xlim((3,25));\n",
    "plt.yticks((0,1,2,3),('1','2','3','4'));"
   ]
  },
  {
   "cell_type": "code",
   "execution_count": 47,
   "metadata": {},
   "outputs": [
    {
     "name": "stdout",
     "output_type": "stream",
     "text": [
      "Code 2 Transport              406025\n",
      "Fire                          172742\n",
      "Patient Declined Transport     40549\n",
      "Code 3 Transport               38542\n",
      "No Merit                       33308\n",
      "Against Medical Advice         15218\n",
      "Unable to Locate               11577\n",
      "Medical Examiner                9440\n",
      "Cancelled                       8362\n",
      "Other                           6044\n",
      "SFPD                            4376\n",
      "Gone on Arrival                 3022\n",
      "CHP                              225\n",
      "Duplicate                         97\n",
      "Multi-casualty Incident           79\n",
      "Name: Call Final Disposition, dtype: int64\n"
     ]
    }
   ],
   "source": [
    "print( df['Call Final Disposition'].value_counts(sort=True) )"
   ]
  },
  {
   "cell_type": "code",
   "execution_count": 48,
   "metadata": {},
   "outputs": [
    {
     "data": {
      "image/png": "[encoded data removed]",
      "text/plain": [
       "<Figure size 576x216 with 1 Axes>"
      ]
     },
     "metadata": {
      "needs_background": "light"
     },
     "output_type": "display_data"
    }
   ],
   "source": [
    "figsize(8,3)\n",
    "sns.boxplot(data = df, y='Call Final Disposition', x='RespTm', \n",
    "            order=['Code 2 Transport','Fire','Patient Declined Transport','Code 3 Transport',\n",
    "                  'No Merit','Against Medical Advice','Unable to Locate','Medical Examiner',\n",
    "                  'Cancelled', 'Other','SFPD','Gone on Arrival','CHP','Duplicate','Multi-casualty Incident'],\n",
    "            orient = 'h', color = '#528DD1',\n",
    "            width=0.8, linewidth=1.5, showfliers=False, whis=[10, 90])\n",
    "plt.ylabel('')\n",
    "plt.xlabel('Response Time (min)');\n",
    "plt.title('Call Final Disposition');\n",
    "#plt.xlim((3,25));\n",
    "plt.yticks((0,1,2,3,4,5,6,7,8,9,10,11,12,13,14,15),('Code 2 Transport','Fire','Patient Declined Transport','Code 3 Transport',\n",
    "                  'No Merit','Against Medical Advice','Unable to Locate','Medical Examiner',\n",
    "                  'Cancelled', 'Other','SFPD','Gone on Arrival','CHP','Duplicate','Multi-casualty Incident'));"
   ]
  },
  {
   "cell_type": "code",
   "execution_count": 49,
   "metadata": {},
   "outputs": [
    {
     "data": {
      "text/plain": [
       "(749606, 42)"
      ]
     },
     "execution_count": 49,
     "metadata": {},
     "output_type": "execute_result"
    }
   ],
   "source": [
    "df.shape"
   ]
  },
  {
   "cell_type": "markdown",
   "metadata": {},
   "source": [
    "## Fire station and hospital location\n",
    "- Import the fire station and hospital location in SF.\n",
    "- Calculate the distance from the incident to the nearest fire station and hospital"
   ]
  },
  {
   "cell_type": "code",
   "execution_count": 51,
   "metadata": {},
   "outputs": [],
   "source": [
    "def calc_min_distance(df_main,df_fire,df_hosp):\n",
    "    '''\n",
    "    calculate the distance between the incident and the nearest hospital and fire station\n",
    "    '''\n",
    "    data_lat = df_main['Latitude'].values\n",
    "    data_long = df_main['Longitude'].values\n",
    "    \n",
    "    fire_lat = df_fire['latitude_fire'].values\n",
    "    fire_long = df_fire['longitude_fire'].values\n",
    "    \n",
    "    hosp_lat = df_hosp['Lat_hospital'].values\n",
    "    hosp_long = df_hosp['Long_hospital'].values\n",
    "    \n",
    "    nitem = df_main.shape[0]\n",
    "    n_fire = df_fire.shape[0]\n",
    "    n_hosp = df_hosp.shape[0]\n",
    "    \n",
    "    dist_fire_min = np.zeros((nitem,1))\n",
    "    dist_fire_med = np.zeros((nitem,1))\n",
    "    \n",
    "    dist_hosp_min = np.zeros((nitem,1))\n",
    "    dist_hosp_med = np.zeros((nitem,1))\n",
    "    \n",
    "    for i in np.arange(nitem):\n",
    "        tempj = []\n",
    "        tempk = []\n",
    "        \n",
    "        for j in np.arange(n_hosp):\n",
    "            dist = abs(hosp_lat[j] - data_lat[i]) + abs(hosp_long[j] -data_long[i])\n",
    "            tempj.append(dist)\n",
    "            \n",
    "        for k in np.arange(n_fire):\n",
    "            dist = abs(fire_lat[k] - data_lat[i]) + abs(fire_long[k] -data_long[i])\n",
    "            tempk.append(dist) \n",
    "        \n",
    "        dist_hosp_min[i] = min(tempj)\n",
    "        #dist_hosp_med[i] = np.median(tempj)\n",
    "        \n",
    "        dist_fire_min[i] = min(tempk)\n",
    "        #dist_fire_med[i] = np.median(tempk)\n",
    "        \n",
    "    df_main['dist_fire_min'] = dist_fire_min\n",
    "    #df_main['dist_fire_med'] = dist_fire_med\n",
    "    df_main['dist_hosp_min'] = dist_hosp_min\n",
    "    #df_main['dist_hosp_med'] = dist_hosp_med\n",
    "    \n",
    "    return df_main"
   ]
  },
  {
   "cell_type": "code",
   "execution_count": 52,
   "metadata": {},
   "outputs": [],
   "source": [
    "# Import the location (latitude and longitude) of fire station and hospital\n",
    "df_hosp = pd.read_csv(\"Hospital_location.csv\")\n",
    "df_fire = pd.read_csv(\"fire_station_location.csv\")"
   ]
  },
  {
   "cell_type": "code",
   "execution_count": 53,
   "metadata": {},
   "outputs": [],
   "source": [
    "# Calcuate the distance and creat two extra columns 'dist_fire_min' and 'dist_hosp_min'\n",
    "df = calc_min_distance(df,df_fire,df_hosp)"
   ]
  },
  {
   "cell_type": "code",
   "execution_count": 54,
   "metadata": {},
   "outputs": [
    {
     "data": {
      "text/html": [
       "<div>\n",
       "<style scoped>\n",
       "    .dataframe tbody tr th:only-of-type {\n",
       "        vertical-align: middle;\n",
       "    }\n",
       "\n",
       "    .dataframe tbody tr th {\n",
       "        vertical-align: top;\n",
       "    }\n",
       "\n",
       "    .dataframe thead th {\n",
       "        text-align: right;\n",
       "    }\n",
       "</style>\n",
       "<table border=\"1\" class=\"dataframe\">\n",
       "  <thead>\n",
       "    <tr style=\"text-align: right;\">\n",
       "      <th></th>\n",
       "      <th>Call Number</th>\n",
       "      <th>Unit ID</th>\n",
       "      <th>Incident Number</th>\n",
       "      <th>Call Type</th>\n",
       "      <th>Call Date</th>\n",
       "      <th>Watch Date</th>\n",
       "      <th>Received DtTm</th>\n",
       "      <th>Entry DtTm</th>\n",
       "      <th>Dispatch DtTm</th>\n",
       "      <th>Response DtTm</th>\n",
       "      <th>...</th>\n",
       "      <th>RespTm</th>\n",
       "      <th>Longitude</th>\n",
       "      <th>Latitude</th>\n",
       "      <th>year</th>\n",
       "      <th>month</th>\n",
       "      <th>day</th>\n",
       "      <th>dayofweek</th>\n",
       "      <th>hour</th>\n",
       "      <th>dist_fire_min</th>\n",
       "      <th>dist_hosp_min</th>\n",
       "    </tr>\n",
       "  </thead>\n",
       "  <tbody>\n",
       "    <tr>\n",
       "      <th>0</th>\n",
       "      <td>192584111</td>\n",
       "      <td>QRV1</td>\n",
       "      <td>19110591</td>\n",
       "      <td>Medical Incident</td>\n",
       "      <td>2019-09-15</td>\n",
       "      <td>09/15/2019</td>\n",
       "      <td>2019-09-15 23:57:18</td>\n",
       "      <td>09/15/2019 11:58:36 PM</td>\n",
       "      <td>09/15/2019 11:58:47 PM</td>\n",
       "      <td>09/15/2019 11:59:34 PM</td>\n",
       "      <td>...</td>\n",
       "      <td>3.8</td>\n",
       "      <td>-122.412597</td>\n",
       "      <td>37.781119</td>\n",
       "      <td>2019</td>\n",
       "      <td>9</td>\n",
       "      <td>15</td>\n",
       "      <td>6</td>\n",
       "      <td>23</td>\n",
       "      <td>0.010216</td>\n",
       "      <td>0.012384</td>\n",
       "    </tr>\n",
       "    <tr>\n",
       "      <th>1</th>\n",
       "      <td>192584111</td>\n",
       "      <td>AM120</td>\n",
       "      <td>19110591</td>\n",
       "      <td>Medical Incident</td>\n",
       "      <td>2019-09-15</td>\n",
       "      <td>09/15/2019</td>\n",
       "      <td>2019-09-15 23:57:18</td>\n",
       "      <td>09/15/2019 11:58:36 PM</td>\n",
       "      <td>09/15/2019 11:58:47 PM</td>\n",
       "      <td>09/15/2019 11:59:37 PM</td>\n",
       "      <td>...</td>\n",
       "      <td>6.1</td>\n",
       "      <td>-122.412597</td>\n",
       "      <td>37.781119</td>\n",
       "      <td>2019</td>\n",
       "      <td>9</td>\n",
       "      <td>15</td>\n",
       "      <td>6</td>\n",
       "      <td>23</td>\n",
       "      <td>0.010216</td>\n",
       "      <td>0.012384</td>\n",
       "    </tr>\n",
       "  </tbody>\n",
       "</table>\n",
       "<p>2 rows × 44 columns</p>\n",
       "</div>"
      ],
      "text/plain": [
       "   Call Number Unit ID  Incident Number         Call Type  Call Date  \\\n",
       "0    192584111    QRV1         19110591  Medical Incident 2019-09-15   \n",
       "1    192584111   AM120         19110591  Medical Incident 2019-09-15   \n",
       "\n",
       "   Watch Date       Received DtTm              Entry DtTm  \\\n",
       "0  09/15/2019 2019-09-15 23:57:18  09/15/2019 11:58:36 PM   \n",
       "1  09/15/2019 2019-09-15 23:57:18  09/15/2019 11:58:36 PM   \n",
       "\n",
       "            Dispatch DtTm           Response DtTm      ...      RespTm  \\\n",
       "0  09/15/2019 11:58:47 PM  09/15/2019 11:59:34 PM      ...         3.8   \n",
       "1  09/15/2019 11:58:47 PM  09/15/2019 11:59:37 PM      ...         6.1   \n",
       "\n",
       "    Longitude   Latitude  year month day dayofweek  hour dist_fire_min  \\\n",
       "0 -122.412597  37.781119  2019     9  15         6    23      0.010216   \n",
       "1 -122.412597  37.781119  2019     9  15         6    23      0.010216   \n",
       "\n",
       "  dist_hosp_min  \n",
       "0      0.012384  \n",
       "1      0.012384  \n",
       "\n",
       "[2 rows x 44 columns]"
      ]
     },
     "execution_count": 54,
     "metadata": {},
     "output_type": "execute_result"
    }
   ],
   "source": [
    "df.head(2)"
   ]
  },
  {
   "cell_type": "code",
   "execution_count": null,
   "metadata": {},
   "outputs": [],
   "source": [
    "# Export the final dataframe for modeling\n",
    "export_df = df.to_csv(r'model_fire_hosp.csv')"
   ]
  }
 ],
 "metadata": {
  "kernelspec": {
   "display_name": "Python 3",
   "language": "python",
   "name": "python3"
  },
  "language_info": {
   "codemirror_mode": {
    "name": "ipython",
    "version": 3
   },
   "file_extension": ".py",
   "mimetype": "text/x-python",
   "name": "python",
   "nbconvert_exporter": "python",
   "pygments_lexer": "ipython3",
   "version": "3.7.0"
  }
 },
 "nbformat": 4,
 "nbformat_minor": 2
}
